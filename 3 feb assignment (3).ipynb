{
 "cells": [
  {
   "cell_type": "code",
   "execution_count": 2,
   "id": "4de329de-eef2-4a1b-8930-ad54072e9971",
   "metadata": {},
   "outputs": [
    {
     "name": "stdout",
     "output_type": "stream",
     "text": [
      "[1, 3, 5, 7, 9, 11, 13, 15, 17, 19, 21, 23, 25]\n"
     ]
    }
   ],
   "source": [
    "#1)\n",
    "# def keyword is used to create a function.\n",
    "def odd():\n",
    "    l=[]\n",
    "    for i in range(1,26):\n",
    "        if i%2!=0:\n",
    "            l.append(i)\n",
    "    return l\n",
    "print(odd())"
   ]
  },
  {
   "cell_type": "code",
   "execution_count": 1,
   "id": "c51e7631-2ba7-4f05-891e-8fd84a45fde8",
   "metadata": {},
   "outputs": [
    {
     "name": "stdout",
     "output_type": "stream",
     "text": [
      "(1, 2, 3)\n",
      "{'a': 1, 'b': 2, 'c': 3}\n"
     ]
    }
   ],
   "source": [
    "#2)\n",
    "# *args is used when n number of arguments is to be given during function declaration and **kwargs is used when to get the result in key value format.\n",
    "def test(*args):\n",
    "    return args\n",
    "print(test(1,2,3))\n",
    "\n",
    "def test1(**kwargs):\n",
    "    return kwargs\n",
    "print(test1(a=1,b=2,c=3))"
   ]
  },
  {
   "cell_type": "code",
   "execution_count": 3,
   "id": "0482c33f-bf9e-4b53-9e3e-c25821498052",
   "metadata": {},
   "outputs": [
    {
     "name": "stdout",
     "output_type": "stream",
     "text": [
      "2\n",
      "4\n",
      "6\n",
      "8\n",
      "10\n"
     ]
    }
   ],
   "source": [
    "#3)\n",
    "# Iterator in Python is an object that is used to iterate over iterable objects like lists, tuples, dicts, and sets. The iterator object is initialized using the iter() method and uses the next() method for iteration.\n",
    "l=[2, 4, 6, 8, 10, 12, 14, 16, 18, 20]\n",
    "def test(u):\n",
    "    for i in u:\n",
    "        yield i\n",
    "a=test(l)\n",
    "for i in range(5):\n",
    "    print(next(a))"
   ]
  },
  {
   "cell_type": "code",
   "execution_count": 4,
   "id": "d778e224-b01d-4ac6-8fe0-08ce9238f3a8",
   "metadata": {},
   "outputs": [
    {
     "name": "stdout",
     "output_type": "stream",
     "text": [
      "1\n",
      "3\n",
      "5\n",
      "7\n",
      "9\n",
      "11\n",
      "13\n",
      "15\n",
      "17\n",
      "19\n"
     ]
    }
   ],
   "source": [
    "#4)\n",
    "# A generator function in Python produces a iterated sequence of values.\n",
    "#Yield is used to generate a iterated sequence of value out of the generator function.\n",
    "l=[2, 4, 6, 8, 10, 12, 14, 16, 18, 20]\n",
    "def test(u):\n",
    "    l=[]\n",
    "    for i in u:\n",
    "        yield i-1\n",
    "for i in test(l):\n",
    "    print(i)\n"
   ]
  },
  {
   "cell_type": "code",
   "execution_count": 2,
   "id": "9e7d50d2-a535-4726-bbeb-463542ebc427",
   "metadata": {},
   "outputs": [
    {
     "name": "stdout",
     "output_type": "stream",
     "text": [
      "2\n",
      "3\n",
      "5\n",
      "7\n",
      "11\n",
      "13\n",
      "17\n",
      "19\n",
      "23\n",
      "29\n",
      "31\n",
      "37\n",
      "41\n",
      "43\n",
      "47\n",
      "53\n",
      "59\n",
      "61\n",
      "67\n",
      "71\n"
     ]
    }
   ],
   "source": [
    "#5)\n",
    "def prime():\n",
    "    l=[]\n",
    "    for n in range(2,1000):\n",
    "        a=True\n",
    "        for i in range(2,n):\n",
    "            if n%i==0:\n",
    "                a=False\n",
    "                break\n",
    "        if a==True:\n",
    "            yield n\n",
    "    \n",
    "b=prime()\n",
    "for i  in range(20):\n",
    "    print(next(b))"
   ]
  },
  {
   "cell_type": "code",
   "execution_count": 5,
   "id": "74d111fe-c224-4a50-9464-108c4ad33cee",
   "metadata": {},
   "outputs": [
    {
     "name": "stdout",
     "output_type": "stream",
     "text": [
      "0\n",
      "1\n",
      "1\n",
      "2\n",
      "3\n",
      "5\n",
      "8\n",
      "13\n",
      "21\n",
      "34\n"
     ]
    }
   ],
   "source": [
    "#6)\n",
    "i=1\n",
    "a,b=0,1\n",
    "while i<=10:\n",
    "    print(a)\n",
    "    c=a+b\n",
    "    a=b\n",
    "    b=c\n",
    "    i+=1\n",
    "    "
   ]
  },
  {
   "cell_type": "code",
   "execution_count": 6,
   "id": "fa801d6e-a79e-490a-92b8-64693b003c31",
   "metadata": {},
   "outputs": [
    {
     "name": "stdout",
     "output_type": "stream",
     "text": [
      "['p', 'w', 'k', 's', 'i', 'l', 'l', 's']\n"
     ]
    }
   ],
   "source": [
    "#7)\n",
    "s='pwksills'\n",
    "a=[i for i in s ]\n",
    "print(a)"
   ]
  },
  {
   "cell_type": "code",
   "execution_count": 7,
   "id": "400c7cd8-9d76-47b4-a183-bdb497fe3107",
   "metadata": {},
   "outputs": [
    {
     "name": "stdin",
     "output_type": "stream",
     "text": [
      "Enter any no.:  343\n"
     ]
    },
    {
     "name": "stdout",
     "output_type": "stream",
     "text": [
      "Palindrome\n"
     ]
    }
   ],
   "source": [
    "#8)\n",
    "n=int(input('Enter any no.: '))\n",
    "t=n\n",
    "rev=0\n",
    "#6776\n",
    "while n>0:\n",
    "    last_digit=n%10\n",
    "    rev=rev*10+last_digit\n",
    "    n=n//10\n",
    "\n",
    "if t==rev:\n",
    "    print('Palindrome')\n",
    "else:\n",
    "    print('Not a palindrome')"
   ]
  },
  {
   "cell_type": "code",
   "execution_count": 3,
   "id": "981973e9-18ed-4445-84a9-49a3a769e13b",
   "metadata": {},
   "outputs": [
    {
     "name": "stdout",
     "output_type": "stream",
     "text": [
      "[1, 3, 5, 7, 9, 11, 13, 15, 17, 19, 21, 23, 25, 27, 29, 31, 33, 35, 37, 39, 41, 43, 45, 47, 49, 51, 53, 55, 57, 59, 61, 63, 65, 67, 69, 71, 73, 75, 77, 79, 81, 83, 85, 87, 89, 91, 93, 95, 97, 99]\n"
     ]
    }
   ],
   "source": [
    "#9)\n",
    "a=[i for i in range(1,101) ]\n",
    "odd=[i for i in a if i%2!=0]\n",
    "print(odd)\n"
   ]
  },
  {
   "cell_type": "code",
   "execution_count": null,
   "id": "c51754f4-12fd-48ad-9884-7bf7985885d0",
   "metadata": {},
   "outputs": [],
   "source": []
  }
 ],
 "metadata": {
  "kernelspec": {
   "display_name": "Python 3 (ipykernel)",
   "language": "python",
   "name": "python3"
  },
  "language_info": {
   "codemirror_mode": {
    "name": "ipython",
    "version": 3
   },
   "file_extension": ".py",
   "mimetype": "text/x-python",
   "name": "python",
   "nbconvert_exporter": "python",
   "pygments_lexer": "ipython3",
   "version": "3.10.8"
  }
 },
 "nbformat": 4,
 "nbformat_minor": 5
}
